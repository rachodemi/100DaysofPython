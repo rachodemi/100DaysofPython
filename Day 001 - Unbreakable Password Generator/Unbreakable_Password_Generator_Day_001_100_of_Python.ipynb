{
  "nbformat": 4,
  "nbformat_minor": 0,
  "metadata": {
    "colab": {
      "name": "Unbreakable Password Generator - Day 001/100 of Python.ipynb",
      "provenance": [],
      "collapsed_sections": []
    },
    "kernelspec": {
      "name": "python3",
      "display_name": "Python 3"
    },
    "language_info": {
      "name": "python"
    }
  },
  "cells": [
    {
      "cell_type": "markdown",
      "source": [
        "<h1>Password Generator Recipe</h1>\n",
        "\n"
      ],
      "metadata": {
        "id": "VKI8rm9p9mWK"
      }
    },
    {
      "cell_type": "code",
      "source": [
        "print('''\n",
        "🔑🔑🔑🔑🔑🔑🔑🔑🔑🔑🔑🔑🔑🔑🔑🔑🔑🔑🔑🔑🔑🔑🔑🔑🔑🔑🔑🔑🔑🔑🔑\n",
        "\\t\\tWelcome to Unbreakable Password Generator!\n",
        "We will help you find your best of the best password for all of your accounts.\n",
        "🔑🔑🔑🔑🔑🔑🔑🔑🔑🔑🔑🔑🔑🔑🔑🔑🔑🔑🔑🔑🔑🔑🔑🔑🔑🔑🔑🔑🔑🔑🔑\n",
        "''')"
      ],
      "metadata": {
        "colab": {
          "base_uri": "https://localhost:8080/"
        },
        "id": "0hKxCHbG-3vz",
        "outputId": "14515a31-9684-417e-e4bb-3b525e9f0955"
      },
      "execution_count": 14,
      "outputs": [
        {
          "output_type": "stream",
          "name": "stdout",
          "text": [
            "\n",
            "🔑🔑🔑🔑🔑🔑🔑🔑🔑🔑🔑🔑🔑🔑🔑🔑🔑🔑🔑🔑🔑🔑🔑🔑🔑🔑🔑🔑🔑🔑🔑\n",
            "\t\tWelcome to Unbreakable Password Generator!\n",
            "We will help you find your best of the best password for all of your accounts.\n",
            "🔑🔑🔑🔑🔑🔑🔑🔑🔑🔑🔑🔑🔑🔑🔑🔑🔑🔑🔑🔑🔑🔑🔑🔑🔑🔑🔑🔑🔑🔑🔑\n",
            "\n"
          ]
        }
      ]
    },
    {
      "cell_type": "code",
      "source": [
        "firstName = str(input('What is your first name?\\nType here: ')).lower()\n",
        "lastName = str(input('What is your last name?\\nType here: ')).lower()\n",
        "birthMonth = str(input('In what month you were born?\\nType here: ')).lower()\n",
        "gender = str(input('Female/Male?\\nType here: ')).lower()\n",
        "favAnimal = str(input('What is your favourite animal?\\nType here: ')).lower()\n",
        "number = int(input('What is your last 2 digits phone number?\\nType here: '))\n",
        "progLang = str(input('What is your favourite programming language?\\nType here: ')).lower()"
      ],
      "metadata": {
        "colab": {
          "base_uri": "https://localhost:8080/"
        },
        "id": "mjw-vK77_w7V",
        "outputId": "1de53319-f9ee-4056-f009-0176b1af8b47"
      },
      "execution_count": 15,
      "outputs": [
        {
          "name": "stdout",
          "output_type": "stream",
          "text": [
            "What is your first name?\n",
            "Type here: Rachmi\n",
            "What is your last name?\n",
            "Type here: Fadillah\n",
            "In what month you were born?\n",
            "Type here: July\n",
            "Female/Male?\n",
            "Type here: Female\n",
            "What is your favourite animal?\n",
            "Type here: Cat\n",
            "What is your last 2 digits phone number?\n",
            "Type here: 98\n",
            "What is your favourite programming language?\n",
            "Type here: Python\n"
          ]
        }
      ]
    },
    {
      "cell_type": "code",
      "source": [
        "username = firstName[0] + firstName[-1] + lastName[-2] + lastName[1] + favAnimal + gender[0] + progLang[::-1] + birthMonth[-2:] + str(number)"
      ],
      "metadata": {
        "id": "xT2BDpWwCz0-"
      },
      "execution_count": 17,
      "outputs": []
    },
    {
      "cell_type": "code",
      "source": [
        "username"
      ],
      "metadata": {
        "colab": {
          "base_uri": "https://localhost:8080/",
          "height": 35
        },
        "id": "Y0wfy6-XDLj9",
        "outputId": "c93c18f2-db8e-4b52-f405-cd0bd9dd0aff"
      },
      "execution_count": 18,
      "outputs": [
        {
          "output_type": "execute_result",
          "data": {
            "text/plain": [
              "'riaacatfnohtyply98'"
            ],
            "application/vnd.google.colaboratory.intrinsic+json": {
              "type": "string"
            }
          },
          "metadata": {},
          "execution_count": 18
        }
      ]
    }
  ]
}