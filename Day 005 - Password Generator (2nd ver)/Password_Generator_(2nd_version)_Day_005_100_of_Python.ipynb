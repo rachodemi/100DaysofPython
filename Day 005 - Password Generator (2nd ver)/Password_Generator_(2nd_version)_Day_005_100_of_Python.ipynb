{
  "nbformat": 4,
  "nbformat_minor": 0,
  "metadata": {
    "colab": {
      "name": "Password Generator (2nd version) - Day 005/100 of Python.ipynb",
      "provenance": [],
      "collapsed_sections": []
    },
    "kernelspec": {
      "name": "python3",
      "display_name": "Python 3"
    },
    "language_info": {
      "name": "python"
    }
  },
  "cells": [
    {
      "cell_type": "code",
      "execution_count": 3,
      "metadata": {
        "id": "i8tLjGV1tTXy"
      },
      "outputs": [],
      "source": [
        "letters = ['a', 'b', 'c', 'd', 'e', 'f', 'g', 'h', 'i', 'j', 'k', 'l', 'm', 'n', 'o', 'p', 'q', 'r', 's', 't', 'u', 'v', 'w', 'x', 'y', 'z', 'A', 'B', 'C', 'D', 'E', 'F', 'G', 'H', 'I', 'J', 'K', 'L', 'M', 'N', 'O', 'P', 'Q', 'R', 'S', 'T', 'U', 'V', 'W', 'X', 'Y', 'Z']\n",
        "numbers = ['0', '1', '2', '3', '4', '5', '6', '7', '8', '9']\n",
        "symbols = ['!', '@', '#', '$', '%', '^', '&', '*', '(', ')', '-', '_', '+', '=', '<', '>', '?', '/', '[', '{', ']', '}']\n"
      ]
    },
    {
      "cell_type": "code",
      "source": [
        "import random\n",
        "\n",
        "total_letter = int(input('How many letters would you like in your password: '))\n",
        "total_number = int(input('How many numbers would you like in your password: '))\n",
        "total_symbols = int(input('How many symbols would you like in your password: '))\n",
        "\n",
        "letter = []\n",
        "for i in range(total_letter):\n",
        "  letter.append(random.choice(letters))\n",
        "\n",
        "number = []\n",
        "for i in range(total_number):\n",
        "  number.append(random.choice(numbers))\n",
        "5\n",
        "symbol = []\n",
        "for i in range(total_symbols):\n",
        "  symbol.append(random.choice(symbols))\n",
        "\n",
        "merged_list = letter + number + symbol\n",
        "random.shuffle(merged_list)\n",
        "\n",
        "password = ''\n",
        "for i in merged_list:\n",
        "  password += i\n",
        "\n",
        "print(f'This is your unbreakable password: {password}')"
      ],
      "metadata": {
        "colab": {
          "base_uri": "https://localhost:8080/"
        },
        "id": "0zipuGpuuFnH",
        "outputId": "012f75ac-e5fc-4cb7-fe79-29b495fabf3e"
      },
      "execution_count": 15,
      "outputs": [
        {
          "output_type": "stream",
          "name": "stdout",
          "text": [
            "How many letters would you like in your password: 7\n",
            "How many numbers would you like in your password: 3\n",
            "How many symbols would you like in your password: 2\n",
            "This is your unbreakable password: E!E!tSTM454z\n"
          ]
        }
      ]
    }
  ]
}