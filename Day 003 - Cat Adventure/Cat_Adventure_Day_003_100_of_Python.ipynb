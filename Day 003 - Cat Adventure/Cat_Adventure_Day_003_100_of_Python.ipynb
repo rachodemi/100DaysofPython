{
  "nbformat": 4,
  "nbformat_minor": 0,
  "metadata": {
    "colab": {
      "name": "Cat Adventure - Day 003/100 of Python.ipynb",
      "provenance": [],
      "collapsed_sections": []
    },
    "kernelspec": {
      "name": "python3",
      "display_name": "Python 3"
    },
    "language_info": {
      "name": "python"
    }
  },
  "cells": [
    {
      "cell_type": "code",
      "source": [
        "print('''\n",
        "😺😺😺😺😺😺😺😺😺😺😺😺😺😺😺\n",
        "    Welcome to the Cat Adventure!\n",
        "Begin your unforgetable journey here.\n",
        "😺😺😺😺😺😺😺😺😺😺😺😺😺😺😺\n",
        "''')"
      ],
      "metadata": {
        "colab": {
          "base_uri": "https://localhost:8080/"
        },
        "id": "6erLiTKLYA5E",
        "outputId": "c5e3d9a1-7b81-4718-f8e6-a9f6b2e29463"
      },
      "execution_count": 4,
      "outputs": [
        {
          "output_type": "stream",
          "name": "stdout",
          "text": [
            "\n",
            "😺😺😺😺😺😺😺😺😺😺😺😺😺😺😺\n",
            "    Welcome to the Cat Adventure!\n",
            "Begin your unforgetable journey here.\n",
            "😺😺😺😺😺😺😺😺😺😺😺😺😺😺😺\n",
            "\n"
          ]
        }
      ]
    },
    {
      "cell_type": "code",
      "source": [
        "name = input('You are cursed to be a cat now. You should find another name.\\nWhat is your name now? Type here: ')"
      ],
      "metadata": {
        "colab": {
          "base_uri": "https://localhost:8080/"
        },
        "id": "qkMv3aa7YoCm",
        "outputId": "22dd9fe7-468c-492a-b66a-40ab3dde53d6"
      },
      "execution_count": 5,
      "outputs": [
        {
          "name": "stdout",
          "output_type": "stream",
          "text": [
            "You are cursed to be a cat now. You should find another name.\n",
            "What is your name now? Type here: Moony\n"
          ]
        }
      ]
    },
    {
      "cell_type": "code",
      "execution_count": 16,
      "metadata": {
        "colab": {
          "base_uri": "https://localhost:8080/"
        },
        "id": "B_iIjhQTXy7T",
        "outputId": "72975519-a5d3-46c5-80c6-f18349f67fff"
      },
      "outputs": [
        {
          "name": "stdout",
          "output_type": "stream",
          "text": [
            "\n",
            "Okay, {name}. Your journey has just begun!\n",
            "Where do you want to go?\n",
            "[a] Cafe\n",
            "[b] Restaurant\n",
            "[c] Small House\n",
            "[d] Forest\n",
            "d\n"
          ]
        }
      ],
      "source": [
        "walkthrough = input('''\n",
        "Okay, {name}. Your journey has just begun!\n",
        "Where do you want to go?\n",
        "[a] Cafe\n",
        "[b] Restaurant\n",
        "[c] Small House\n",
        "[d] Forest\n",
        "''').lower()"
      ]
    },
    {
      "cell_type": "code",
      "source": [
        "if walkthrough == 'a':\n",
        "  answer = input('You are going to the cafe right now. You find a pretty girl with the white skirt is calling you. Do you want to approach her?\\nType Y or N: ').upper()\n",
        "  if answer == 'Y':\n",
        "    print('She is actually a criminal! She points a gun at you! Game over....')\n",
        "  else:\n",
        "    print(f'Luckily you didn\\'t approach her. You see a gun behind her! She must be a criminal. Better run from here, {name}!')\n",
        "elif walkthrough == 'b':\n",
        "  answer = input('You are going to the restaurant right now. You find another three-colours cat is calling you. Do you want to approach her?\\nType Y or N: ').upper()\n",
        "  if answer == 'Y':\n",
        "    print(f'Her name is Bety. She is very happy to have a friend like you, {name}! You will live at her big house from now. Congratulations!')\n",
        "  else:\n",
        "    print('That three-colours cat is disappointed because you do not approach her. Then, she calls her \\'husband\\' to kill you! Game over....')\n",
        "elif walkthrough == 'c':\n",
        "  answer = input('You are going to the small house right now. You find an old man who is sitting in his wheelchair. He is calling you. Do you want to approach him?\\nType Y or N: ').upper()\n",
        "  if answer == 'Y':\n",
        "    print('His name is Benedict and he says that he is a veterinarian. He gives you a snack, but suddenly... your vision starts to fade. He actually gives you a sleeping pill! No one knows what will happen after that. Game over....')\n",
        "  else:\n",
        "    print(f'You do not approach him and suddenly you see the polices caught him. What happened? He is actually selling the drugs! You are safe now, {name}')\n",
        "else:\n",
        "  print('You are going to the forest and you see a witch is approaching you. \\'Abracadabra!\\', she shouts. And boom! You are being a human again!')\n"
      ],
      "metadata": {
        "colab": {
          "base_uri": "https://localhost:8080/"
        },
        "id": "HCz9rUN-aHGy",
        "outputId": "37a390eb-5b78-43d0-ab21-e65907b403b1"
      },
      "execution_count": 17,
      "outputs": [
        {
          "output_type": "stream",
          "name": "stdout",
          "text": [
            "You are going to the forest and you see a witch is approaching you. 'Abracadabra!', she shouts. And boom! You are being a human again!\n"
          ]
        }
      ]
    }
  ]
}