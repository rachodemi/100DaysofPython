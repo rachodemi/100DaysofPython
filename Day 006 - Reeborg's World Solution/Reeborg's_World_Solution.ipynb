{
  "nbformat": 4,
  "nbformat_minor": 0,
  "metadata": {
    "colab": {
      "name": "Reeborg's World Solution.ipynb",
      "provenance": [],
      "collapsed_sections": []
    },
    "kernelspec": {
      "name": "python3",
      "display_name": "Python 3"
    },
    "language_info": {
      "name": "python"
    }
  },
  "cells": [
    {
      "cell_type": "code",
      "execution_count": null,
      "metadata": {
        "id": "P-O2u5wajnIS"
      },
      "outputs": [],
      "source": [
        "# Link\n",
        "# https://reeborg.ca/reeborg.html?lang=en&mode=python&menu=worlds%2Fmenus%2Freeborg_intro_en.json&name=Maze&url=worlds%2Ftutorial_en%2Fmaze1.json"
      ]
    },
    {
      "cell_type": "code",
      "source": [
        "# Solution\n",
        "# def turn_right():\n",
        "#     for i in range(3):\n",
        "#         turn_left()\n",
        "\n",
        "# while not at_goal():\n",
        "#     if right_is_clear():\n",
        "#         turn_right()\n",
        "#         move()\n",
        "#     elif front_is_clear():\n",
        "#         move()\n",
        "#     else:\n",
        "#         turn_left()"
      ],
      "metadata": {
        "id": "B2h3_VggjzH7"
      },
      "execution_count": null,
      "outputs": []
    }
  ]
}