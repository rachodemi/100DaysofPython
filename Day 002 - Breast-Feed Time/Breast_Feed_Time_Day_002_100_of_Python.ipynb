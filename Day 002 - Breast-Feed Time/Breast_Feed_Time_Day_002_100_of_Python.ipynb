{
  "nbformat": 4,
  "nbformat_minor": 0,
  "metadata": {
    "colab": {
      "name": "Breast-Feed Time - Day 002/100 of Python.ipynb",
      "provenance": [],
      "collapsed_sections": []
    },
    "kernelspec": {
      "name": "python3",
      "display_name": "Python 3"
    },
    "language_info": {
      "name": "python"
    }
  },
  "cells": [
    {
      "cell_type": "code",
      "source": [
        "wake_up = int(input(\"What time do you wake up in the morning?\\nType here (24h format): \"))\n",
        "feeding = wake_up + 1\n",
        "print(f\"Your 1st breast-feeding will be at {wake_up}.00 until {feeding}.00\")\n",
        "times = \"\"\n",
        "for i in range(2,8):\n",
        "  if i == 11:\n",
        "    times = \"st\"\n",
        "  elif i == 2 or i == 12:\n",
        "    times = \"nd\"\n",
        "  else:\n",
        "    times = \"th\"\n",
        "  feeding += 2\n",
        "  print(f\"Your {i}{times} breast-feeding will be at {round(feeding, 2):.2f} until {round(feeding + 1, 2):.2f}\")\n",
        "  feeding += 1\n",
        "\n",
        "print(\"It is already midnight. Time to sleep, Amazing Mom!\")"
      ],
      "metadata": {
        "colab": {
          "base_uri": "https://localhost:8080/"
        },
        "id": "9jLnnp362pLB",
        "outputId": "dd2e5733-3fe8-49e3-a3b3-3bb6de00e690"
      },
      "execution_count": 43,
      "outputs": [
        {
          "output_type": "stream",
          "name": "stdout",
          "text": [
            "What time do you wake up in the morning?\n",
            "Type here (24h format): 4\n",
            "Your 1st breast-feeding will be at 4.00 until 5.00\n",
            "Your 2nd breast-feeding will be at 7.00 until 8.00\n",
            "Your 3th breast-feeding will be at 10.00 until 11.00\n",
            "Your 4th breast-feeding will be at 13.00 until 14.00\n",
            "Your 5th breast-feeding will be at 16.00 until 17.00\n",
            "Your 6th breast-feeding will be at 19.00 until 20.00\n",
            "Your 7th breast-feeding will be at 22.00 until 23.00\n",
            "It is already midnight. Time to sleep, Amazing Mom!\n"
          ]
        }
      ]
    }
  ]
}